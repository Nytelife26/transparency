{
 "cells": [
  {
   "cell_type": "markdown",
   "metadata": {},
   "source": [
    "<center><h1>Array Test</h1></center>\n",
    "<center><h3>Complete 25/11/2020, by Tyler J. Russell</h3></center>"
   ]
  },
  {
   "cell_type": "markdown",
   "metadata": {},
   "source": [
    "***"
   ]
  },
  {
   "cell_type": "markdown",
   "metadata": {},
   "source": [
    "#### Part 1 [10 marks] "
   ]
  },
  {
   "cell_type": "markdown",
   "metadata": {},
   "source": [
    "1. When you declare (or initialise) an array the computer allocates a number of empty memory locations. What information must you give the computer when you declare an array? [2 marks]"
   ]
  },
  {
   "cell_type": "markdown",
   "metadata": {},
   "source": [
    "How many empty memory locations it should allocate (size of the array), and the data type of the array."
   ]
  },
  {
   "cell_type": "markdown",
   "metadata": {},
   "source": [
    "2. How many operations does it take for the computer to access a single element in an array when it knows the index number? [1 mark]"
   ]
  },
  {
   "cell_type": "markdown",
   "metadata": {},
   "source": [
    "All that is needed is to find the memory location corresponding to the index, and fetch the value - so, 2 at most (or 1 if the indexing system corresponds directly to memory)."
   ]
  },
  {
   "cell_type": "markdown",
   "metadata": {},
   "source": [
    "3. Explain how the computer can access an array element when it knows the data contents but not the index number. How many operations is this? [3 marks]"
   ]
  },
  {
   "cell_type": "markdown",
   "metadata": {},
   "source": [
    "The process is as follows:\n",
    "- Load next index in array (starting from 0)\n",
    "- Compare index result to desired content\n",
    "  * If they match, stop the loop\n",
    "  * Else, continue\n",
    "\n",
    "This requires 2x as many operations as there are elements in the list up to the point where the desired element is."
   ]
  },
  {
   "cell_type": "markdown",
   "metadata": {},
   "source": [
    "4. Explain why an array may not make best use of computer memory. [2 marks]"
   ]
  },
  {
   "cell_type": "markdown",
   "metadata": {},
   "source": [
    "The array will statically consume a certain number of memory locations, even if they contain no value. This is memory inefficient as locations are reserved even when they are not strictly required and are just empty spaces in the array."
   ]
  },
  {
   "cell_type": "markdown",
   "metadata": {},
   "source": [
    "5. Explain why inserting a value into an array at a given point may in some cases require a large number of operations. [2 marks]"
   ]
  },
  {
   "cell_type": "markdown",
   "metadata": {},
   "source": [
    "This depends on the size of the array. When you insert a value at a given index, all the elements to the right of the index must first be shuffled over by 1. This can require a large number of operations proportional to the number of elements that exist after the given index."
   ]
  },
  {
   "cell_type": "markdown",
   "metadata": {},
   "source": [
    "#### Part 2 [10 marks]"
   ]
  },
  {
   "cell_type": "markdown",
   "metadata": {},
   "source": [
    "Here is a visualisation of a 2D array with 2 rows and 3 columns."
   ]
  },
  {
   "cell_type": "markdown",
   "metadata": {},
   "source": [
    "| NULL | NULL | NULL |\n",
    "|------|------|------|\n",
    "| NULL | NULL | NULL |"
   ]
  },
  {
   "cell_type": "markdown",
   "metadata": {},
   "source": [
    "6. How many memory locations are allocated in total to this array? [1 mark]"
   ]
  },
  {
   "cell_type": "markdown",
   "metadata": {},
   "source": [
    "$2 \\times 3 = 6$."
   ]
  },
  {
   "cell_type": "markdown",
   "metadata": {},
   "source": [
    "7. The array has the name `a`. How would you identify the first and last element of the array? [2 marks]"
   ]
  },
  {
   "cell_type": "markdown",
   "metadata": {},
   "source": [
    "`a[0]`and `a[-1]` respectively, given that 0 is the 1st index and -1 is always the last index."
   ]
  },
  {
   "cell_type": "markdown",
   "metadata": {},
   "source": [
    "8. Choose any memory location in the array. Give the pseudocode command to allocate the data value `\"X\"` to this memory location. Draw an abstract visualisation of the array after this command has been executed [4 marks]"
   ]
  },
  {
   "cell_type": "markdown",
   "metadata": {},
   "source": [
    "I will use the 3rd location (index 2).  \n",
    "The command would be `a[2] = \"X\"`.\n",
    "\n",
    "The resulting array is as follows\n",
    "\n",
    "| NULL | NULL |  X   |\n",
    "|:----:|:----:|:----:|\n",
    "| NULL | NULL | NULL |"
   ]
  },
  {
   "cell_type": "markdown",
   "metadata": {},
   "source": [
    "9. A teacher must store 10 test results for 17 students in a class. Give two pseudocode commands. One will declare a suitable array and one will update the test result for student 3, test 1. [3 marks]"
   ]
  },
  {
   "cell_type": "markdown",
   "metadata": {},
   "source": [
    "Assuming their score is 50 (just for exemplary purposes),  \n",
    "The index would be `[0]` of array `[2]` (n - 1), so,  \n",
    "```\n",
    "Array<Array>[17] b = Array<Int>[10]\n",
    "b[2][0] = 50\n",
    "```"
   ]
  }
 ],
 "metadata": {
  "kernelspec": {
   "display_name": "Python 3",
   "language": "python",
   "name": "python3"
  },
  "language_info": {
   "codemirror_mode": {
    "name": "ipython",
    "version": 3
   },
   "file_extension": ".py",
   "mimetype": "text/x-python",
   "name": "python",
   "nbconvert_exporter": "python",
   "pygments_lexer": "ipython3",
   "version": "3.8.6"
  }
 },
 "nbformat": 4,
 "nbformat_minor": 4
}
