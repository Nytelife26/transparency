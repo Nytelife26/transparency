{
 "cells": [
  {
   "cell_type": "markdown",
   "metadata": {},
   "source": [
    "***"
   ]
  },
  {
   "cell_type": "markdown",
   "metadata": {},
   "source": [
    "1. Calculate the discriminant of $y = 3x^{2} + 5x + 2$."
   ]
  },
  {
   "cell_type": "markdown",
   "metadata": {},
   "source": [
    "$\\Delta_{2} = 5^{2} - 4 \\times 3 \\times 2$  \n",
    "$= 25 - 24$  \n",
    "$= 1$"
   ]
  },
  {
   "cell_type": "markdown",
   "metadata": {},
   "source": [
    "2. The line which is perpendicular to $2x + 3y - 5 = 0$ and passes through the point $(-2, 3)$ has equation $ax + by + 12 = 0$. Calculate the value of $a$."
   ]
  },
  {
   "cell_type": "markdown",
   "metadata": {},
   "source": [
    "$3y = -2x + 5$  \n",
    "$y = -\\frac{2}{3}x + \\frac{5}{3}$  \n",
    "$m = \\frac{3}{2}$  \n",
    "$y = \\frac{3}{2}x + c$  \n",
    "$3 = -3 + c$  \n",
    "$c = 6$  \n",
    "$y = \\frac{3}{2}x + 6$  \n",
    "$2y = 3x + 6$  \n",
    "$3x - 2y + 6 = 0$  \n",
    "$a = 3$"
   ]
  },
  {
   "cell_type": "markdown",
   "metadata": {},
   "source": [
    "3. For Q2, calculate the value of $b$."
   ]
  },
  {
   "cell_type": "markdown",
   "metadata": {},
   "source": [
    "$b = -2$"
   ]
  },
  {
   "cell_type": "markdown",
   "metadata": {},
   "source": [
    "4. Solve the equation $\\frac{3x+1}{2x} = 4$ to find $x$ and give your answer as a fraction."
   ]
  },
  {
   "cell_type": "markdown",
   "metadata": {},
   "source": [
    "$3x + 1 = 8x$  \n",
    "$5x = 1$  \n",
    "$x = \\frac{1}{5}$"
   ]
  },
  {
   "cell_type": "markdown",
   "metadata": {},
   "source": [
    "5. The curve $C$ has equation $y = \\frac{1}{3}x^{3} - 4x^{2} + 7x + 3$. Find $p$ if the co-ordinates $(3, p)$ lies on $C$."
   ]
  },
  {
   "cell_type": "markdown",
   "metadata": {},
   "source": [
    "First, we must substitute in the value of $x$.  \n",
    "We know the point lies on $C$, so, we can use the identity $p = \\frac{1}{3}3^{3} - 4 \\times 3^2 + 7 \\times 3 + 3$.  \n",
    "$p = \\frac{1}{3}27 - 36 + 21 + 3$  \n",
    "$p = 9 - 36 + 21 + 3$  \n",
    "$p = -3$"
   ]
  }
 ],
 "metadata": {
  "kernelspec": {
   "display_name": "Python 3",
   "language": "python",
   "name": "python3"
  },
  "language_info": {
   "codemirror_mode": {
    "name": "ipython",
    "version": 3
   },
   "file_extension": ".py",
   "mimetype": "text/x-python",
   "name": "python",
   "nbconvert_exporter": "python",
   "pygments_lexer": "ipython3",
   "version": "3.8.6"
  }
 },
 "nbformat": 4,
 "nbformat_minor": 4
}
