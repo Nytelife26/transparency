{
 "cells": [
  {
   "cell_type": "markdown",
   "metadata": {},
   "source": [
    "***"
   ]
  },
  {
   "cell_type": "markdown",
   "metadata": {},
   "source": [
    "1. Find the length of the line joining $A = (-1, -4)$ and $B = (2, 6)$. Give your answer to one decimal place."
   ]
  },
  {
   "cell_type": "markdown",
   "metadata": {},
   "source": [
    "$l^{2} = (\\Delta y)^{2} + {\\Delta x}^{2}$  \n",
    "$l^{2} = 10^{2} + 3^{2}$  \n",
    "$l^{2} = 100 + 9 = 109$  \n",
    "$l = \\sqrt{109} = 10.4$"
   ]
  },
  {
   "cell_type": "markdown",
   "metadata": {},
   "source": [
    "2. Find the y-coordinate of the midpoint of the line segment that joins $A$ and $B$ in Q1. "
   ]
  },
  {
   "cell_type": "markdown",
   "metadata": {},
   "source": [
    "$C_{y} = \\frac{\\Sigma y}{2} = \\frac{2}{2} = 1$"
   ]
  },
  {
   "cell_type": "markdown",
   "metadata": {},
   "source": [
    "3. State one of the values of $p$ for which the quadratic equation $px^{2} + 4x + p - 3 = 0$ has equal roots."
   ]
  },
  {
   "cell_type": "markdown",
   "metadata": {},
   "source": [
    "$a = p$, $b = 4$, $c = (p - 3)$  \n",
    "$\\Delta_{2} = b^{2} - 4ac$  \n",
    "$= 4^{2} - 4 \\times p \\times (p - 3)$  \n",
    "$= 16 - 4p(p - 3)$  \n",
    "$= 16 - 4p^{2} + 12p$    \n",
    "$-4p^{2} + 12p + 16 = 0$  \n",
    "$-4(p - 4)(p + 1) = 0$\n",
    "$p = [4, -1]$"
   ]
  },
  {
   "cell_type": "markdown",
   "metadata": {},
   "source": [
    "4. Solve $\\frac{3x - 8}{2} = \\frac{6x + 1}{5}$ to find $x$."
   ]
  },
  {
   "cell_type": "markdown",
   "metadata": {},
   "source": [
    "$\\frac{3x - 8}{2} = \\frac{6x + 1}{5}$  \n",
    "$15x - 40 = 12x + 2$  \n",
    "$3x = 42$\n",
    "$x = 14$"
   ]
  },
  {
   "cell_type": "markdown",
   "metadata": {},
   "source": [
    "5. The gradient of the line joining $(2, -2)$ and $(p, 13)$ is $-3$. Find $p$."
   ]
  },
  {
   "cell_type": "markdown",
   "metadata": {},
   "source": [
    "$y = -3x + c$  \n",
    "$-2 = -3 \\times 2 + c$  \n",
    "$-c = -6 + 2$  \n",
    "$c = 6 - 2$  \n",
    "$c = 4$ \n",
    "\n",
    "$y = -3x + 4$  \n",
    "$13 = -3x + 4$  \n",
    "$9 = -3x$  \n",
    "$p = x = -3$"
   ]
  }
 ],
 "metadata": {
  "kernelspec": {
   "display_name": "Python 3",
   "language": "python",
   "name": "python3"
  },
  "language_info": {
   "codemirror_mode": {
    "name": "ipython",
    "version": 3
   },
   "file_extension": ".py",
   "mimetype": "text/x-python",
   "name": "python",
   "nbconvert_exporter": "python",
   "pygments_lexer": "ipython3",
   "version": "3.8.6"
  }
 },
 "nbformat": 4,
 "nbformat_minor": 4
}
