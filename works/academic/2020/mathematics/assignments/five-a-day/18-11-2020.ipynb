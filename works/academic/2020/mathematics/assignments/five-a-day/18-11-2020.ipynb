{
 "cells": [
  {
   "cell_type": "markdown",
   "metadata": {},
   "source": [
    "***"
   ]
  },
  {
   "cell_type": "markdown",
   "metadata": {},
   "source": [
    "1. What is the graphical relationship between the line $y = 1 - x$ and the parabola $y = x^{2} - 6x + 10$?\n",
    "  * *a)* The line and the parabola do not meet\n",
    "  * *b)* The line is tangent to the parabola\n",
    "  * *c)* The line intersects the parabola in 2 places\n",
    " \n",
    "If condition *a* is true, the line must not ever intersect the parabola, creating the equation $x^{2} - 5x + 9 = 0$ where there are no real solutions.\n",
    "For there to be no solutions, $\\Delta_{2} < 0$. So,  \n",
    "$\\Delta_{2} = -5^{2} - 4 \\times 1 \\times 9$  \n",
    "$= 25 - 36$  \n",
    "$= -11$  \n",
    "$: \\Delta_{2} < 0$ and therefore the line does not meet the parabola. Subsequently, we can also draw the corollary conclusion that *b* and *c* must be false, as they are mutually exclusive conditions.\n"
   ]
  },
  {
   "cell_type": "markdown",
   "metadata": {},
   "source": [
    "2. Find the x-coordinate of the point of intersection of the two lines $y = 5x + 11$ and $x + 2y + 22 = 0$.\n",
    "\n",
    "$y = 5x + 11$  \n",
    "$5x - y + 11 = 0$  \n",
    "Then, solve simultaneously:  \n",
    "$5x + 10y = -110$  \n",
    "$5x - y = -11$  \n",
    "$-11y = 99$  \n",
    "$y = -9$  \n",
    "$5x + 9 = -11$\n",
    "$5x = -20$\n",
    "$x = -4$"
   ]
  },
  {
   "cell_type": "markdown",
   "metadata": {},
   "source": [
    "3. The straight line which is parallel to the line $y = 5x + 6$ and passes through the point $(0, 9)$ has equation $y = mx + c$. State the value of m.\n",
    "\n",
    "For a parallel line, gradients must be equivalent, so $m = 5$."
   ]
  },
  {
   "cell_type": "markdown",
   "metadata": {},
   "source": [
    "4. For Q3, state the value of $c$.\n",
    "\n",
    "For it to pass through $y = 9$ at $x = 0$, the intercept must be $c = 9$."
   ]
  },
  {
   "cell_type": "markdown",
   "metadata": {},
   "source": [
    "5. Calculate the sum of the two solutions of the equation $x + 4 = \\frac{5}{x}$.\n",
    "\n",
    "$x^{2} + 4x = 5$  \n",
    "$x^{2} + 4x - 5 = 0$  \n",
    "$(x - 2)^{2} - 9 = 0$  \n",
    "$(x - 2)^{2} = 9$\n",
    "$x - 2 = \\pm\\sqrt{9}$  \n",
    "$x = 2 \\pm\\sqrt{9}$\n",
    "$x = 2 \\pm 3$  \n",
    "$\\Sigma x = 5 - 1 = 4$"
   ]
  }
 ],
 "metadata": {
  "kernelspec": {
   "display_name": "Python 3",
   "language": "python",
   "name": "python3"
  },
  "language_info": {
   "codemirror_mode": {
    "name": "ipython",
    "version": 3
   },
   "file_extension": ".py",
   "mimetype": "text/x-python",
   "name": "python",
   "nbconvert_exporter": "python",
   "pygments_lexer": "ipython3",
   "version": "3.8.6"
  }
 },
 "nbformat": 4,
 "nbformat_minor": 4
}
