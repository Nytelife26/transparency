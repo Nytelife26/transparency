{
 "cells": [
  {
   "cell_type": "markdown",
   "metadata": {},
   "source": [
    "***"
   ]
  },
  {
   "cell_type": "markdown",
   "metadata": {},
   "source": [
    "1. Given $h(t) = 3 + 14t - 5t^{2}$, calculate the value of $X$ for a ball thrown\n",
    "from a point $X$ metres above the ground, where its height above ground at time\n",
    "$t$ is given by $h(t)$.\n",
    "\n",
    "$h(t) = 3 + 14t - 5t^{2}$  \n",
    "$t = 0$  \n",
    "$X = 3 + 14 \\times 0 - 5 \\times 0^{2} = 3$"
   ]
  },
  {
   "cell_type": "markdown",
   "metadata": {},
   "source": [
    "2. Use completing the square to find the greatest height, in metres, that the\n",
    "ball reaches. Give your answer as a decimal.\n",
    "\n",
    "$3 + 14t - 5t^{2}$  \n",
    "Rearrange to $-5t^{2} + 14t + 3$  \n",
    "Complete the square:  \n",
    "For the form $ax^{2} + bx + c$, rearrange to \n",
    "$a(x + \\frac{b}{2a})^{2} - \\frac{b^{2}}{4a} + c$  \n",
    "$-5t^{2} + 14t + 3$  \n",
    "$= -5(x - \\frac{7}{5})^{2} + \\frac{49}{5} + 3$  \n",
    "$= -5(x - \\frac{7}{5})^{2} + \\frac{64}{5}$  \n",
    "$max = \\frac{64}{5} = 12.8$\n",
    "\n",
    "*(AUTHOR'S NOTE: Initially I struggled with this question, as I could not\n",
    "remember the general formula for completing the square when $a \\neq 1$. I was\n",
    "able to work it out using Wolfram Alpha and Desmos though, realising my initial\n",
    "workings lacked the required $-\\frac{b^{2}}{4a}$)*"
   ]
  },
  {
   "cell_type": "markdown",
   "metadata": {},
   "source": [
    "3. Use your answer from Q2 to state the value of t at which the ball achieves\n",
    "its maximum height. Give your answer as a decimal.\n",
    "\n",
    "$-5(x - \\frac{7}{5})^2 + \\frac{64}{5}$  \n",
    "$t = \\frac{7}{5} = 1.4$"
   ]
  },
  {
   "cell_type": "markdown",
   "metadata": {},
   "source": [
    "4. After the ball has reached its maximum height it will descend and\n",
    "eventually hit the ground. Calculate the value of $t$ when it is $X$ metres\n",
    "above the ground again. Give your answer as a decimal.\n",
    "\n",
    "$-5(x - \\frac{7}{5})^{2} + \\frac{64}{5} = 3$  \n",
    "$-5(x - \\frac{7}{5})^{2} = 3 - \\frac{64}{5}$  \n",
    "$(x - \\frac{7}{5})^{2} = \\frac{49}{25}$  \n",
    "$x - \\frac{7}{5} = \\pm\\sqrt{\\frac{49}{25}}$  \n",
    "$x - \\frac{7}{5} = \\pm\\frac{7}{5}$  \n",
    "$x = \\frac{7}{5} \\pm \\frac{7}{5}$  \n",
    "If $x \\neq 0$, $x = \\frac{7}{5} + \\frac{7}{5} = \\frac{14}{5} = 2.8$"
   ]
  },
  {
   "cell_type": "markdown",
   "metadata": {},
   "source": [
    "5. Calculate the value of $t$ when the ball hits the ground.\n",
    "\n",
    "$-5(t - \\frac{7}{5})^{2} + \\frac{64}{5} = 0$  \n",
    "$-5(t - \\frac{7}{5})^{2} = -\\frac{64}{5}$  \n",
    "$(t - \\frac{7}{5})^{2} = \\frac{64}{25}$  \n",
    "$t - \\frac{7}{5} = \\pm\\sqrt{\\frac{64}{25}}$  \n",
    "$t - \\frac{7}{5} = \\pm\\frac{8}{5}$  \n",
    "$t = \\frac{7}{5} \\pm \\frac{8}{5}$  \n",
    "If $t > 0$, $t = \\frac{7}{5} + \\frac{8}{5} = \\frac{15}{5} = 3$"
   ]
  }
 ],
 "metadata": {
  "kernelspec": {
   "display_name": "Python 3",
   "language": "python",
   "name": "python3"
  },
  "language_info": {
   "codemirror_mode": {
    "name": "ipython",
    "version": 3
   },
   "file_extension": ".py",
   "mimetype": "text/x-python",
   "name": "python",
   "nbconvert_exporter": "python",
   "pygments_lexer": "ipython3",
   "version": "3.6.6"
  }
 },
 "nbformat": 4,
 "nbformat_minor": 4
}
