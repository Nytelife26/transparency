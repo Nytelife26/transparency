{
 "cells": [
  {
   "cell_type": "markdown",
   "metadata": {},
   "source": [
    "<center><h1>Completing the Square & Solving Quadratic Equations Assignment</h1></center>\n",
    "<center><h3>Complete 23/09/2020, by Tyler J. Russell</h3></center>"
   ]
  },
  {
   "cell_type": "markdown",
   "metadata": {},
   "source": [
    "***"
   ]
  },
  {
   "cell_type": "markdown",
   "metadata": {},
   "source": [
    "#### Completing the Square"
   ]
  },
  {
   "cell_type": "markdown",
   "metadata": {},
   "source": [
    "1. $x^2 + 6x = (x + 3)^2 - 9$\n",
    "2. $x^2 + 8x + 7 = (x + 4)^2 - 9$\n",
    "3. $x^2 - 10x + 5 = (x - 5)^2 - 20$\n",
    "4. $x^2 + 12x + 13 = (x + 6)^2 - 23$\n",
    "5. $x^2 + 14x - 8 = (x + 7)^2 - 57$\n",
    "6. $3x^2 - 12x = 3(x - 2)^2 - 12$\n",
    "7. $2x^2 + 8x - 4 = 2(x + 2)^2 - 12$\n",
    "8. $2x^2 + 10x + 7 = 2(x + \\frac{5}{2})^2 - \\frac{11}{2}$\n",
    "9. $-x^2 + 7x - 3 = -(x - \\frac{7}{2})^2 + \\frac{37}{4}$\n",
    "10. $3x^2 - 2x + 1 = 3(x - \\frac{1}{3})^2 + \\frac{2}{3}$  "
   ]
  },
  {
   "cell_type": "markdown",
   "metadata": {},
   "source": [
    "#### Solving Quadratic Equations"
   ]
  },
  {
   "cell_type": "markdown",
   "metadata": {},
   "source": [
    "1. By factorising\n",
    "- *a)* $x^2 + 7x = 18$  \n",
    "$x^2 + 7x - 18 = (x+9)(x-2)$  \n",
    "$x = -9, 2$  \n",
    " \n",
    "- *b)* $2x^2 + 9x - 8 = 2x - 4$  \n",
    "$2x^2 + 7x - 4 = (2x-1)(x+4)$  \n",
    "$x = \\frac{1}{2}, -4$  \n",
    "\n",
    "- *c)* $6x^2 + 5x - 15 = 5 - 2x$  \n",
    "$6x^2 + 7x - 20 = (3x-4)(2x+5)$  \n",
    "$x = \\frac{4}{3}, -\\frac{5}{2}$"
   ]
  },
  {
   "cell_type": "markdown",
   "metadata": {},
   "source": [
    "2. By completing the square\n",
    "- *a)*  $x^2 + 8x + 2 = 0$  \n",
    "$x^2 + 8x + 2 = (x+4)^2 - 14$  \n",
    "$x = -4\\pm\\sqrt{14}$  \n",
    "\n",
    "- *b)* $2x^2 + 4x - 1 = x$  \n",
    "$2x^2 + 3x - 1 = 2(x+\\frac{3}{4})^2 - \\frac{17}{8}$  \n",
    "$x = -\\frac{3}{4}\\pm\\frac{\\sqrt{17}}{4}$  \n",
    "\n",
    "- *c)* $15 - 6x - 2x^2 = 0$  \n",
    "$-2x^2 - 6x + 15 = -2(x+\\frac{3}{2})^2 + \\frac{39}{2}$  \n",
    "$x = -\\frac{3}{2}\\pm\\frac{\\sqrt{39}}{2}$  "
   ]
  },
  {
   "cell_type": "markdown",
   "metadata": {},
   "source": [
    "3. By using the quadratic equation formula\n",
    "- *a)* $(x - 1)^2 = 3x^2 + 7x - 2$  \n",
    "$x^2 - 2x + 1 = 3x^2 + 7x - 2$  \n",
    "$2x^2 + 9x - 3 = 0$  \n",
    "$x = \\frac{-9\\pm\\sqrt{9^2-4 \\times 2 \\times -3}}{2 \\times 2} = \\frac{-9\\pm\\sqrt{105}}{4}$  \n",
    "\n",
    "- *b)* $x = \\sqrt{8x-15}$  \n",
    "$x^2 - 8x + 15 = 0$  \n",
    "$x = \\frac{8\\pm\\sqrt{-8^2-4 \\times 1 \\times 15}}{2 \\times 1} = \\frac{8\\pm\\sqrt{4}}{2} = 5, 3$"
   ]
  },
  {
   "cell_type": "markdown",
   "metadata": {},
   "source": [
    "4. By using the function on your calculator\n",
    "\n",
    "$5x - 10x^{2} = 2x^{2} - 3$  \n",
    "$-12x^{2} + 5x + 3 = 0$"
   ]
  },
  {
   "cell_type": "code",
   "execution_count": 8,
   "metadata": {},
   "outputs": [
    {
     "name": "stdout",
     "output_type": "stream",
     "text": [
      "The answers are -0.3333333333333333 and 0.75\n"
     ]
    }
   ],
   "source": [
    "import math\n",
    "\n",
    "def f(a, b, c):\n",
    "    discriminant = (b**2) - (4*a*c)\n",
    "    return [(-b + math.sqrt(discriminant))/(2*a), (-b - math.sqrt(discriminant))/(2*a)]\n",
    "answers = f(-12, 5, 3)\n",
    "print(f\"The answers are {answers[0]} and {answers[1]}\")"
   ]
  },
  {
   "cell_type": "markdown",
   "metadata": {},
   "source": [
    "5. By using any appropriate method\n",
    "- *a)* $(x - 4)^{2} = 25$  \n",
    "$x - 4 = \\sqrt{25}$  \n",
    "$x - 4 = \\pm5$  \n",
    "$x = 4 \\pm 5$  \n",
    "$x = [-1, 9]$\n",
    "\n",
    "- *b)* $5x^{2} - 3 = 0$\n",
    "$5x^{2} = 3$  \n",
    "$x^{2} = \\frac{3}{5}$  \n",
    "$x = \\pm\\sqrt{\\frac{3}{5}}$"
   ]
  },
  {
   "cell_type": "markdown",
   "metadata": {},
   "source": [
    "#### Forming Quadratic Equations"
   ]
  },
  {
   "cell_type": "markdown",
   "metadata": {},
   "source": [
    "1. By factorising\n",
    "- *a)* $x = [2, -9]$  \n",
    "$(x - 2)(x + 9)$  \n",
    "$x^{2} + 7x - 18$\n",
    "\n",
    "- *b)* $x = [\\frac{1}{2}, -4]$  \n",
    "$(x - \\frac{1}{2})(x + 4)$  \n",
    "$x^{2} + \\frac{7}{2}x - 2$\n",
    "\n",
    "- *c)* $x = [\\frac{4}{3}, -\\frac{5}{2}]$  \n",
    "$(x - \\frac{4}{3})(x - \\frac{5}{2})$  \n",
    "$x^{2} - \\frac{28}{6}x + \\frac{20}{6}$"
   ]
  },
  {
   "cell_type": "markdown",
   "metadata": {},
   "source": [
    "2. By completing the square\n",
    "- *a)* $x = -4 \\pm \\sqrt{14}$  \n",
    "$x + 4 = \\pm\\sqrt{14}$  \n",
    "$(x + 4)^{2} = 14$  \n",
    "$(x + 4)^{2} - 14 = 0$\n",
    "\n",
    "- *b)* $x = \\frac{-3 \\pm \\sqrt{17}}{4}$  \n",
    "$4x = -3 \\pm \\sqrt{17}$  \n",
    "$4x + 3 = \\pm\\sqrt{17}$  \n",
    "$(4x + 3)^{2} = 17$  \n",
    "$(4x + 3)^{2} - 17 = 0$\n",
    "\n",
    "- *c)* $x = \\frac{-3 \\pm \\sqrt{39}}{2}$  \n",
    "$2x = -3 \\pm \\sqrt{39}$  \n",
    "$2x + 3 = \\pm\\sqrt{39}$  \n",
    "$(2x + 3)^{2} = 39$  \n",
    "$(2x + 3)^{2} - 39 = 0$  "
   ]
  }
 ],
 "metadata": {
  "kernelspec": {
   "display_name": "Python 3",
   "language": "python",
   "name": "python3"
  },
  "language_info": {
   "codemirror_mode": {
    "name": "ipython",
    "version": 3
   },
   "file_extension": ".py",
   "mimetype": "text/x-python",
   "name": "python",
   "nbconvert_exporter": "python",
   "pygments_lexer": "ipython3",
   "version": "3.6.6"
  }
 },
 "nbformat": 4,
 "nbformat_minor": 4
}
