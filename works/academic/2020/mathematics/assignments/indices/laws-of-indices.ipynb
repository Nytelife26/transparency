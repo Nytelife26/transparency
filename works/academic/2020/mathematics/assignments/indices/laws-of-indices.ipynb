{
 "cells": [
  {
   "cell_type": "markdown",
   "metadata": {},
   "source": [
    "<center><h1>Laws of Indices Assignment</h1></center>\n",
    "<center><h3>Complete 08/09/2020, by Tyler J. Russell</h3></center>"
   ]
  },
  {
   "cell_type": "markdown",
   "metadata": {},
   "source": [
    "***"
   ]
  },
  {
   "cell_type": "markdown",
   "metadata": {},
   "source": [
    "1. $a^6 * a^3 = a^9$\n",
    "2. $2x^4 * 3x^2 = 6x^{12}$\n",
    "3. $5x^2 * 4x^3 = 20x^5$\n",
    "4. $\\frac{k^6}{k^2} = k^4$\n",
    "5. $\\frac{6y^7}{2y^4} = 3y^3$\n",
    "6. $(y^4)^6 = y^{24}$\n",
    "7. $(5a^3)^2 = 25a^6$\n",
    "8. $(4m^3)^2 * 3m = 16m^6 * 3m = 48m^7$\n",
    "9. $\\frac{(6t^2)^3}{9t^2} = \\frac{216t^6}{9t^2} = 24t^4$\n",
    "10. $\\frac{(2e^3)^2 * 3e^5}{6e^7} = \\frac{4e^6 * 3e^5}{6e^7} = \\frac{12e^{11}}{6e^7} = 2e^4$"
   ]
  },
  {
   "cell_type": "markdown",
   "metadata": {},
   "source": [
    "1. $\\frac{h^4 + h^7}{h^2} = h^2 + h^5$\n",
    "2. $\\frac{3t^5 + 4t^7}{t^2} = 3t^3 + 4t^5$\n",
    "3. $\\frac{20u^7 - 12u^5}{4u^3} = 5u^4 - 3u^2$\n",
    "4. $\\frac{18y^6 - (4y^3)^4}{2y^5} = \\frac{18y^6 - 256y^{12}}{2y^5} = 9y - 128y^7$"
   ]
  }
 ],
 "metadata": {
  "kernelspec": {
   "display_name": "Python 3",
   "language": "python",
   "name": "python3"
  },
  "language_info": {
   "codemirror_mode": {
    "name": "ipython",
    "version": 3
   },
   "file_extension": ".py",
   "mimetype": "text/x-python",
   "name": "python",
   "nbconvert_exporter": "python",
   "pygments_lexer": "ipython3",
   "version": "3.6.6"
  }
 },
 "nbformat": 4,
 "nbformat_minor": 4
}
