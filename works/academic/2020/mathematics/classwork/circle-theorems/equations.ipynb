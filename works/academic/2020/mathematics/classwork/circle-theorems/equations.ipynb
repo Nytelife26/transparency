{
 "cells": [
  {
   "cell_type": "markdown",
   "metadata": {},
   "source": [
    "<center><h1>Circle Theorems - Equations</h1></center>\n",
    "<center><h3>Complete 19/11/2020, by Tyler J. Russell</h3></center>"
   ]
  },
  {
   "cell_type": "markdown",
   "metadata": {},
   "source": [
    "***"
   ]
  },
  {
   "cell_type": "markdown",
   "metadata": {},
   "source": [
    "#### Concept"
   ]
  },
  {
   "cell_type": "markdown",
   "metadata": {},
   "source": [
    "$(x - a)^{2} + (y - b)^{2} = r^{2}$  \n",
    "Or, $x^{2} + y^{2} + \\alpha x + \\beta x + \\gamma = 0$  \n",
    "To go from the alternative form to the standard form, you must complete the square and shift the constants.  \n",
    "For instance, generally:  \n",
    "$x^{2} + \\alpha x + y^{2} + \\beta y + \\gamma = 0$  \n",
    "$[(x + \\frac{\\alpha x}{2})^{2} - (\\frac{\\alpha x}{2})^{2}] + [(y + \\frac{\\beta y}{2})^{2} - (\\frac{\\beta y}{2})^{2}] + \\gamma = 0$  \n",
    "$(x + \\frac{\\alpha x}{2})^{2} + (y + \\frac{\\beta y}{2})^{2} = (\\frac{\\alpha x}{2})^{2} + (\\frac{\\beta y}{2})^{2} - \\gamma$"
   ]
  },
  {
   "cell_type": "markdown",
   "metadata": {},
   "source": [
    "#### Workings"
   ]
  },
  {
   "cell_type": "markdown",
   "metadata": {},
   "source": [
    "1. The line segment that joins the points $A = (-2, 7)$ and $B = (8, 3)$ forms the diameter of a circle. If the centre of the circle is point $C$, what are the co-ordinates of $C$? What would be the length of the radius of the circle?"
   ]
  },
  {
   "cell_type": "markdown",
   "metadata": {},
   "source": [
    "$C = (\\frac{\\Sigma x}{2}, \\frac{\\Sigma y}{2})$  \n",
    "$C = (\\frac{6}{2}, \\frac{10}{2})$  \n",
    "$C = (3, 5)$\n",
    "\n",
    "$r^{2} = 5^{2} + 2^{2}$  \n",
    "$r^{2} = 25 + 4$  \n",
    "$r^{2} = 29$  \n",
    "$r = \\sqrt{29}$"
   ]
  },
  {
   "cell_type": "markdown",
   "metadata": {},
   "source": [
    "2. Write down the equation of the circle with centre $C = (5, 7)$ and radius $r = 4$.\n",
    "\n",
    "$c = (x - C_{x}) + (y - C_{y})$  \n",
    "$(x - 5)^{2} + (y - 7)^{2} = 16$"
   ]
  },
  {
   "cell_type": "markdown",
   "metadata": {},
   "source": [
    "3. A circle has equation $(x - 3)^{2} + (y + 4)^{2} = 20$.\n",
    "  * *a)* Write down the centre and radius of the circle.  \n",
    "  $C = (3, -4)$  \n",
    "  $r = \\sqrt{20} = \\sqrt{4 \\times 5} = 2\\sqrt{5}$\n",
    "  * *b)* Show that the circle passes through $(5, -8)$\n",
    "  $(5 - 3)^{2} + (-8 + 4)^{2} = 2^{2} + -4^{2}$  \n",
    "  $= 4 + 16$  \n",
    "  $= 20 : (5, -8)$ satisfies the equation.  \n",
    "  Quod erat demonstandum."
   ]
  },
  {
   "cell_type": "markdown",
   "metadata": {},
   "source": [
    "4. The line segment $AB$ is a diameter of a circle, where $A = (4, 7)$ and $B = (-8, 3)$. Find the equation of the circle."
   ]
  },
  {
   "cell_type": "markdown",
   "metadata": {},
   "source": [
    "$C = (\\frac{\\Sigma x}{2}, \\frac{\\Sigma y}{2})$  \n",
    "$C = (\\frac{-4}{2}, \\frac{10}{2})$  \n",
    "$C = (-2, 5)$\n",
    "\n",
    "$r^{2} = 6^{2} + 2^{2}$  \n",
    "$r^{2} = 36 + 4$  \n",
    "$r^{2} = 40$  \n",
    "$C = (x + 2)^{2} + (y - 5)^{2} = 40$"
   ]
  },
  {
   "cell_type": "markdown",
   "metadata": {},
   "source": [
    "1. Write down the equation of each circle.\n",
    "  * *a)* $C = (3, 2)$, $r = 4$  \n",
    "  $(x - 3)^{2} + (y - 2)^{2} = 16$\n",
    "  * *b)* $C = (-4, 5)$, $r = 6$  \n",
    "  $(x + 4)^{2} + (y - 5)^{2} = 36$\n",
    "  * *c)* $C = (-5, -6)$, $r = 2\\sqrt{3}$  \n",
    "  $(x + 5)^{2} + (y + 6)^{2} = 12$\n",
    "  * *d)* $C = (2a, 7a)$, $r = 5a$  \n",
    "  $(x - 2a)^{2} + (y - 7a)^{2} = 25a^{2}$\n",
    "  * *e)* $C = (-2\\sqrt{2}, -3\\sqrt{2})$, $r = 1$  \n",
    "  $(x + 2\\sqrt{2})^{2} + (y + 3\\sqrt{2})^{2} = 1$"
   ]
  },
  {
   "cell_type": "markdown",
   "metadata": {},
   "source": [
    "2. Write down the co-ordinates of the centre and radius of each circle.\n",
    "  * *a)* $(x + 5)^{2} + (y - 4)^{2} = 9^{2}$  \n",
    "  $C = (-5, 4)$, $r = 9$\n",
    "  * *b)* $(x - 7)^{2} + (y - 1)^{2} = 16$  \n",
    "  $C = (7, 1)$, $r = 4$\n",
    "  * *c)* $(x + 4)^{2} + y^{2} = 25$  \n",
    "  $C = (-4, 0)$, $r = 5$\n",
    "  * *d)* $(x + 4a)^{2} + (y + a)^{2} = 144a^{2}$  \n",
    "  $C = (-4a, -a)$, $r = 12a$\n",
    "  * *e)* $(x - 3\\sqrt{5})^{2} + (y + \\sqrt{5})^{2} = 27$  \n",
    "  $C = (3\\sqrt{5}, -\\sqrt{5})$, $r = 3\\sqrt{3}$"
   ]
  },
  {
   "cell_type": "markdown",
   "metadata": {},
   "source": [
    "3. In each case, show that the circle passes through the given point.\n",
    "  * *a)* $(x - 2)^{2} + (y - 5)^{2} = 13$, $(4, 8)$   \n",
    "  $(4 - 2)^{2} + (8 - 5)^{2} = 2^{2} + 3^{2}$  \n",
    "  $= 4 + 9$  \n",
    "  $= 13 : (4, 8)$ satisfies the equation.  \n",
    "  Quod erat demonstandum."
   ]
  },
  {
   "cell_type": "markdown",
   "metadata": {},
   "source": [
    "1. Find the centre and radius of the circle with equation $x^{2} + y^{2} - 14x + 16y - 12 = 0$  \n",
    "\n",
    "$x^{2} - 14x + y^{2} + 16y - 12 = 0$  \n",
    "$(x - 7)^{2} - 49 + (y + 16)^{2} - 64 - 12 = 0$  \n",
    "$(x - 7)^{2} + (y + 16)^{2} = 125$\n",
    "\n",
    "$C = (7, -8)$, $r = 5\\sqrt{5}$"
   ]
  }
 ],
 "metadata": {
  "kernelspec": {
   "display_name": "Python 3",
   "language": "python",
   "name": "python3"
  },
  "language_info": {
   "codemirror_mode": {
    "name": "ipython",
    "version": 3
   },
   "file_extension": ".py",
   "mimetype": "text/x-python",
   "name": "python",
   "nbconvert_exporter": "python",
   "pygments_lexer": "ipython3",
   "version": "3.8.6"
  }
 },
 "nbformat": 4,
 "nbformat_minor": 4
}
