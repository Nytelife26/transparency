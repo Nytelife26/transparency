{
 "cells": [
  {
   "cell_type": "markdown",
   "metadata": {},
   "source": [
    "<center><h1>Surds Classwork</h1></center>\n",
    "<center><h3>Complete 16/11/2020, by Tyler J. Russell</h3></center>"
   ]
  },
  {
   "cell_type": "markdown",
   "metadata": {},
   "source": [
    "#### Surds"
   ]
  },
  {
   "cell_type": "markdown",
   "metadata": {},
   "source": [
    "In relation to surds, conjugate pairs will always produce rational numbers.\n",
    "For instance:  \n",
    "$(2 + \\sqrt{3})(2 - \\sqrt{3}) = 4 - 3 = 1$  \n",
    "$(\\sqrt{2} + \\sqrt{5})(\\sqrt{2} - \\sqrt{5}) = 2 - 5 = -3$"
   ]
  },
  {
   "cell_type": "markdown",
   "metadata": {},
   "source": [
    "#### Workings"
   ]
  },
  {
   "cell_type": "markdown",
   "metadata": {},
   "source": [
    "1. Solve the following surds\n",
    "  * *a)* $\\sqrt{49} = 7$  \n",
    "  * *b)* $\\sqrt{121} = 11$  \n",
    "  * *c)* $\\sqrt{\\frac{1}{9}} = \\frac{1}{3}$  \n",
    "  * *d)* $\\sqrt{\\frac{4}{25}} = \\frac{2}{5}$  \n",
    "  * *e)* $\\sqrt{0.01} = 0.1$  \n",
    "  * *f)* $\\sqrt{0.09} = 0.3$  \n",
    "  * *g)* $\\sqrt[3]{8} = 2$  \n",
    "  * *h)* $\\sqrt[3]{1000} = 10$  \n",
    "  * *i)* $\\sqrt[4]{81} = 3$  \n",
    "  * *j)* $\\sqrt{\\frac{1+9}{16}} = \\sqrt{\\frac{25}{16}} = 1 + \\frac{1}{4}$  \n",
    "\n",
    "2. Evaluate the following expressions\n",
    "  * *a)* $\\sqrt{7} \\times \\sqrt{7} = 7$  \n",
    "  * *b)* $4\\sqrt{5} \\times \\sqrt{5} = 4 \\times 5 = 20$  \n",
    "  * *c)* $(3\\sqrt{3})^{2} = 9 \\times 3 = 27$  \n",
    "  * *d)* $\\sqrt{6}^{4} = 36$  \n",
    "  * *e)* $\\sqrt{2}^{5} = 4\\sqrt{2}$  \n",
    "  * *f)* $(2\\sqrt{3})^{3} = 8 \\times 3 \\times \\sqrt{3} = 24\\sqrt{3}$  \n",
    "  * *g)* $\\sqrt{2} \\times \\sqrt{8} = 4$  \n",
    "  * *h)* $2\\sqrt{3} \\times \\sqrt{27} = 2\\sqrt{3} \\times \\sqrt{3 \\times 9} = 2\\sqrt{3} \\times 3\\sqrt{3} = 6 \\times 3 = 18$  \n",
    "  * *i)* $\\frac{\\sqrt{32}}{\\sqrt{2}} = \\frac{\\sqrt{16 \\times 2}}{\\sqrt{2}} = \\frac{4\\sqrt{2}}{\\sqrt{2}} = 4$  \n",
    "  * *j)* $\\frac{\\sqrt{3}}{\\sqrt{12}} = \\frac{\\sqrt{3}}{\\sqrt{4 \\times 3}} = \\frac{\\sqrt{3}}{2\\sqrt{3}} = \\frac{1}{2}$  \n",
    "  * *k)* $\\sqrt[3]{6}^{3} = 6$  \n",
    "  * *l)* $(3\\sqrt[3]{2})^{3} = 27 \\times 2 = 54$  \n",
    "\n",
    "3. Simplify the following surds\n",
    "  * *a)* $\\sqrt{18} = \\sqrt{9 \\times 2} = 3\\sqrt{2}$  \n",
    "  * *b)* $\\sqrt{50} = \\sqrt{25 \\times 2} = 5\\sqrt{2}$  \n",
    "  * *c)* $\\sqrt{8} = \\sqrt{4 \\times 2} = 2\\sqrt{2}$  \n",
    "  * *d)* $\\sqrt{98} = \\sqrt{49 \\times 2} = 7\\sqrt{2}$  \n",
    "  * *e)* $\\sqrt{200} = \\sqrt{100 \\times 2} = 10\\sqrt{2}$  \n",
    "  * *f)* $\\sqrt{162} = \\sqrt{81 \\times 2} = 9\\sqrt{2}$  \n",
    "\n",
    "4. Simplify the following surds\n",
    "  * *a)* $\\sqrt{12} = 2\\sqrt{3}$  \n",
    "  * *b)* $\\sqrt{28} = 2\\sqrt{7}$  \n",
    "  * *c)* $\\sqrt{8} = 2\\sqrt{2}$  \n",
    "\n",
    "5. Evaluate the following expressions\n",
    "  * *a)* $\\sqrt{18} + \\sqrt{50} = \\sqrt{9 \\times 2} + \\sqrt{25 \\times 2} = 3\\sqrt{2} + 5\\sqrt{2} = 8\\sqrt{2}$  \n",
    "  * *b)* $\\sqrt{48} - \\sqrt{27} = \\sqrt{16 \\times 3} - \\sqrt{9 \\times 3} = 4\\sqrt{3} - 3\\sqrt{3} = \\sqrt{3}$  \n",
    "  * *c)* $2\\sqrt{8} + \\sqrt{72} = 4\\sqrt{2} + \\sqrt{36 \\times 2} = 4\\sqrt{2} + 6\\sqrt{2} = 10\\sqrt{2}$  \n",
    "\n",
    "6. Evaluate the following expressions\n",
    "  * *a)* $\\sqrt{3}(2+\\sqrt{3}) = 3 + 2\\sqrt{3}$  \n",
    "  * *b)* $4 - \\sqrt{3} - 2(1 - \\sqrt{3}) = 4 - \\sqrt{3} - 2 + 2\\sqrt{3} = 2 + \\sqrt{3}$  \n",
    "  * *c)* $(1 + \\sqrt{3})(2 + \\sqrt{3}) = 2 + \\sqrt{3} + 2\\sqrt{3} + 3 = 5 + 3\\sqrt{3}$  \n",
    "\n",
    "7. Evaluate the following expressions\n",
    "  * *a)* $(\\sqrt{5} + 1)(2\\sqrt{5} + 3) = 10 + 2\\sqrt{5} + 3\\sqrt{5} + 3 = 13 + 5\\sqrt{5} = 26 + 10\\sqrt{5}$  \n",
    "\n",
    "8. Evaluate the following expressions\n",
    "  * *a)* $\\frac{1}{\\sqrt{5}} = \\frac{\\sqrt{5}}{5}$  \n",
    "\n",
    "9. Rationalise the following fractions\n",
    "  * *a)* $\\frac{1}{\\sqrt{2} + 1} = \\frac{\\sqrt{2} - 1}{(\\sqrt{2} + 1)(\\sqrt{2} - 1)} = \\frac{\\sqrt{2} - 1}{3}$  \n",
    "  * *b)* $\\frac{4}{\\sqrt{3} - 1} = \\frac{4\\sqrt{3} + 4}{(\\sqrt{3} - 1)(\\sqrt{3} + 1)} = \\frac{4\\sqrt{3} + 4}{2}$  "
   ]
  }
 ],
 "metadata": {
  "kernelspec": {
   "display_name": "Python 3",
   "language": "python",
   "name": "python3"
  },
  "language_info": {
   "codemirror_mode": {
    "name": "ipython",
    "version": 3
   },
   "file_extension": ".py",
   "mimetype": "text/x-python",
   "name": "python",
   "nbconvert_exporter": "python",
   "pygments_lexer": "ipython3",
   "version": "3.6.6"
  }
 },
 "nbformat": 4,
 "nbformat_minor": 4
}
