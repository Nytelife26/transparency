{
 "cells": [
  {
   "cell_type": "markdown",
   "metadata": {},
   "source": [
    "<center><h1>Quadratic Discriminant Classwork</h1></center>\n",
    "<center><h3>Complete 17/11/2020, by Tyler J. Russell</h3></center>"
   ]
  },
  {
   "cell_type": "markdown",
   "metadata": {},
   "source": [
    "***"
   ]
  },
  {
   "cell_type": "markdown",
   "metadata": {},
   "source": [
    "#### The quadratic discriminant\n",
    "\n",
    "Given $x = \\frac{-b \\pm \\sqrt{b^{2} - 4ac}}{2a}$, the discriminant is $\\Delta_{2} = b^{2} - 4ac$  \n",
    "So:\n",
    "- if $\\Delta_{2} > 0$, the quadratic equation has two real solutions\n",
    "- if $\\Delta_{2} = 0$, the quadratic equation has one repeated real solution\n",
    "- if $\\Delta_{2} < 0$, the quadratic equation has no real solutions\n",
    "\n",
    "In context:\n",
    "- For the graph $y = ax^{2} + bx + c$, it tells us how many roots the graph has\n",
    "- For a pair of simultaneous equations in the form $ax^{2} + bx + c = 0$, it tells us how many solutions there are\n",
    "- If we just have to solve a quadratic equation, it tells us how many solutions for $x$ there are"
   ]
  },
  {
   "cell_type": "markdown",
   "metadata": {},
   "source": [
    "#### Workings"
   ]
  },
  {
   "cell_type": "markdown",
   "metadata": {},
   "source": [
    "1. Evaluate the discriminant given the following\n",
    "  * *a)* $\\Delta_{2} = 8^{2} - 4 \\times 1 \\times 3$  \n",
    "  $= 8^{2} - 12$  \n",
    "  $= 64 - 12$  \n",
    "  $= 52$\n",
    "  * *b)* $\\Delta_{2} = -3^{2} - 4 \\times 2 \\times 4$  \n",
    "  $= -3^{2} - 32$  \n",
    "  $= 9 - 32$  \n",
    "  $= -23$\n",
    "  * *c)* $\\Delta_{2} = 7^{2} - 4 \\times -1 \\times -3$  \n",
    "  $= 7^{2} - 12$  \n",
    "  $= 49 - 12$  \n",
    "  $= 37$\n",
    "  * *d)* $\\Delta_{2} = -8^{2} - 4 \\times 1 \\times 16$  \n",
    "  $= -8^{2} - 64$  \n",
    "  $= 64 - 64$  \n",
    "  $= 0$\n",
    "  * *e)* $\\Delta_{2} = -3^{2} - 4 \\times 2 \\times -4$  \n",
    "  $= -3^{2} + 32$  \n",
    "  $= 9 + 32$  \n",
    "  $= 41$"
   ]
  },
  {
   "cell_type": "markdown",
   "metadata": {},
   "source": [
    "2. $a = 1$, $b = 6$, $c = k$  \n",
    "$\\Delta_{2} > 0$  \n",
    "$\\Delta_{2} = 6^{2} - 4 \\times 1 \\times k$  \n",
    "$= 36 - 4k$  \n",
    "$36 > 4k$  \n",
    "$k < 9$"
   ]
  },
  {
   "cell_type": "markdown",
   "metadata": {},
   "source": [
    "3. $a = 2$, $b = -3$, $c = t$  \n",
    "$\\Delta_{2} = 0$  \n",
    "$\\Delta_{2} = -3^{2} - 4 \\times 2 \\times t$  \n",
    "$= 9 - 8t$  \n",
    "$9 = 8t$  \n",
    "$t = \\frac{9}{8}$"
   ]
  },
  {
   "cell_type": "markdown",
   "metadata": {},
   "source": [
    "4. $a = s$, $b = 8$, $c = s$  \n",
    "$\\Delta_{2} = 0$  \n",
    "$\\Delta_{2} = 8^{2} - 4 \\times s \\times s$  \n",
    "$= 8^{2} - 4s^{2} = 0$  \n",
    "$8^{2} = 4s^{2}$  \n",
    "$s = 4$"
   ]
  },
  {
   "cell_type": "markdown",
   "metadata": {},
   "source": [
    "5. $a = 3$, $b = -4$, $c = k$  \n",
    "$\\Delta_{2} < 0$  \n",
    "$\\Delta_{2} = -4^{2} - 4 \\times 3 \\times k$  \n",
    "$= 16 - 12k$  \n",
    "$16 < 12k$  \n",
    "$k > \\frac{4}{3}$"
   ]
  },
  {
   "cell_type": "markdown",
   "metadata": {},
   "source": [
    "6. Solve the following\n",
    "  * *a)* $a = 1$, $b = 3p$, $c = 14p - 3$  \n",
    "  $\\Delta_{2} > 0$  \n",
    "  $\\Delta_{2} = 3p^{2} - 4 \\times 1 \\times (14p-3)$  \n",
    "  $= 3p^{2} - 56p - 12$  \n",
    "  $3p^{2} > 56p - 12$  \n",
    "  $p = \\frac{28}{3} - \\frac{2\\sqrt{187}}{3}$"
   ]
  }
 ],
 "metadata": {
  "kernelspec": {
   "display_name": "Python 3",
   "language": "python",
   "name": "python3"
  },
  "language_info": {
   "codemirror_mode": {
    "name": "ipython",
    "version": 3
   },
   "file_extension": ".py",
   "mimetype": "text/x-python",
   "name": "python",
   "nbconvert_exporter": "python",
   "pygments_lexer": "ipython3",
   "version": "3.6.6"
  }
 },
 "nbformat": 4,
 "nbformat_minor": 4
}
