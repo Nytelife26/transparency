{
 "cells": [
  {
   "cell_type": "markdown",
   "metadata": {},
   "source": [
    "<center><h1>Key Operations of Polynomial Equations</h1></center>\n",
    "<center><h3>Written 18/11/2020, by Tyler J. Russell</h3></center>"
   ]
  },
  {
   "cell_type": "markdown",
   "metadata": {},
   "source": [
    "***"
   ]
  },
  {
   "cell_type": "markdown",
   "metadata": {},
   "source": [
    "#### Addition"
   ]
  },
  {
   "cell_type": "markdown",
   "metadata": {},
   "source": [
    "Adding polynomial equations solely involves collecting their equal variables (or \"like terms\").  \n",
    "Examples:  \n",
    "1. $(−m^{2} + 6) + (−4m^{2} + 7m + 2) = -5m^{2} + 7m + 8$\n",
    "2. $(−t^{3} + 5t^{2} − 6t) + (8t^{2} − 8t) = -t^{3} + 13t^{2} - 14t$\n",
    "3. $(−4b^{3} + b − 1) + (6b − 6) = -4b^{3} + 7b - 7$\n",
    "4. $(−x^{3} − x) + (6x^{2} + 6x − 7) = -x^{3} + 6x^{2} + 5x - 7$"
   ]
  },
  {
   "cell_type": "markdown",
   "metadata": {},
   "source": [
    "#### Subtraction"
   ]
  },
  {
   "cell_type": "markdown",
   "metadata": {},
   "source": [
    "Subtracting polynomial equations is the same as addition, but inverting all the parenthesised terms to the right of the subtraction symbol.  \n",
    "Or, simply, subtracting all equal variables on the right from their counterparts on the left.  \n",
    "To generalize, that means $(2x) - (x) = (2x) + (-x) = x$  \n",
    "Examples:\n",
    "1. $(6a^{3} + 7a^{2}) − (5a^{3} + 9a^{2} + a) = a^{3} - 2a^{2} - a$\n",
    "2. $(−9n^{4} + 8) − (−9n^{4} + 2n^{3} + 5n^{2}) = -2n^{3} - 5n^{2} + 8$\n",
    "3. $(3x^{3} + 4x^{2}) − (2x^{3} + 3x^{2} − x) = x^{3} + x^{2} + x$\n",
    "4. $(f^{3} − 5f + 25) − (4f^{2} − 12f + 9) = f^{3} - 4f^{2} + 7f + 16$"
   ]
  },
  {
   "cell_type": "markdown",
   "metadata": {},
   "source": [
    "#### Multiplication"
   ]
  },
  {
   "cell_type": "markdown",
   "metadata": {},
   "source": [
    "In order to multiply polynomial equations, for each term in the first equation, multiply it by every term in the second equation.  \n",
    "Once multiplication is complete, you should collect all equal variables to simplify the equation.  \n",
    "Examples:\n",
    "1. $(2z − 1)(z^{2} − 2z + 1) = 2z^{3} - 4z^{2} + 2z - z^{2} + 2z - 1 = 2z^{3} - 5z^{2} + 4z - 1$\n",
    "2. $(n^{2} − 3n + 1)(2n + 3) = 2n^{3} + 3n^{2} - 6n^{2} - 9n + 2n + 3 = 2n^{3} - 3n^{2} - 7n + 3$\n",
    "3. $(8 − 3a^{2})(2a^{2} + 6) = 16a^{2} + 48 - 6a^{4} - 18a^{2} = -6a^{4} - 2a^{2} + 48$\n",
    "4. $(c^{2} − 6)(2c^{2} + 3c − 1) = 2c^{4} + 3c^{3} - c^{2} - 12c^{2} - 18c + 6 = 2c^{4} + 3c^{3} - 13c^{2} - 18c + 6$"
   ]
  },
  {
   "cell_type": "markdown",
   "metadata": {},
   "source": [
    "However, there are also special products of polynomial equations; primarily, the difference of two squares and perfect squares.  \n",
    "For the difference of two squares, the following general equation applies: $(a + b)(a - b) = a^{2} - ab + ab - b^{2} = a^{2} - b^{2}$  \n",
    "For a perfect square, the following general equation applies: $(a + b)^{2} = a^2 + 2ab + b^2$  \n",
    "\n",
    "Examples for the difference of two squares:\n",
    "1. $(5a^{3} − 2)(5a^{3} + 2) = (5a^{3})^{2} - 2^{2} = 25a^{6} - 4$\n",
    "2. $(4m^{5} − 5m^{6})(4m^{5} + 5m^{6}) = (4m^{5})^{2} - (5m^{6})^{2} = 16m^{10} - 25m^{12}$\n",
    "3. $(4 + 3c^{5})(4 − 3c^{5}) = 4^{2} - (3c^{5})^{2} = 16 - 9c^{10}$\n",
    "4. $(7b^{5} − 4b)(7b^{5} + 4b) = (7b^{5})^{2} - (4b)^{2} = 49b^{10} - 16b^{2}$\n",
    "\n",
    "Examples for a perfect square:\n",
    "1. $(6y^{2} + 5y^{4})^{2} = (6y^{2})^{2} + 2(6y^{2})(5y^{4}) + (5y^{4})^{2} = 36y^{4} + 60y^{6} + 25y^{8}$\n",
    "2. $(4d^{2} − 2d^{7})^{2} = (4d^{2})^{2} + 2(4d^{2})(-2d^{7}) + (-2d^{7})^{2} = 16d^{4} - 16d^{9} + 4d^{14}$\n",
    "3. $(2 − 7m^{6})^{2} = 2^{2} + 2(2)(-7m^{6}) + (-7m^{6})^{2} = 4 - 28m^{6} + 49m^{12}$\n",
    "4. $(8x^{4} + 1)^{2} = (8x^{4})^{2} + 2(8x^{4})(1) + 1^{2} = 64x^{8} + 16x^{4} + 1$"
   ]
  }
 ],
 "metadata": {
  "kernelspec": {
   "display_name": "Python 3",
   "language": "python",
   "name": "python3"
  },
  "language_info": {
   "codemirror_mode": {
    "name": "ipython",
    "version": 3
   },
   "file_extension": ".py",
   "mimetype": "text/x-python",
   "name": "python",
   "nbconvert_exporter": "python",
   "pygments_lexer": "ipython3",
   "version": "3.6.6"
  }
 },
 "nbformat": 4,
 "nbformat_minor": 4
}
