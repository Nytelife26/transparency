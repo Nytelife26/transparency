{
 "cells": [
  {
   "cell_type": "markdown",
   "metadata": {},
   "source": [
    "<center><h1>Python Loops - Break or Conditionals?</h1></center>\n",
    "<center><h3>Written 22/11/2020, by Tyler J. Russell</h3></center>"
   ]
  },
  {
   "cell_type": "markdown",
   "metadata": {},
   "source": [
    "***"
   ]
  },
  {
   "cell_type": "markdown",
   "metadata": {},
   "source": [
    "#### Abstract"
   ]
  },
  {
   "cell_type": "markdown",
   "metadata": {},
   "source": [
    "I was working on my [Fox and Hen Game] project for computer science when I found myself questioning whether `break` statements or conditionals are more efficient for `for` and `while` loops. Now, obviously, there is a difference: one will always run at least one iteration, the other depends on the condition. However, in this paper, I will only be comparing them with the same use case; id est, at least one iteration with a break check.\n",
    "\n",
    "As such, in this test, superiority is measured in performance - both time to execute and operational expense.  \n",
    "To ensure fairness of testing, I will be using the same number of tests to average for each (1 million) and also for the conditionals I will include the initial assignment in the setup rather than in the actual test block to avoid adding to the time for initial assignment. However, it is worth noting that initial assignment and cleanup afterwards would count into the operational expense and time difference in any real circumstance, so that should be taken into consideration. My aim in excluding it is simply to measure raw performance of both methods alone.\n",
    "\n",
    "[Fox and Hen Game]: https://github.com/Nytelife26/transparency/tree/main/works/academic/2020/computer-science/assignments/fox-and-hen"
   ]
  },
  {
   "cell_type": "markdown",
   "metadata": {},
   "source": [
    "#### Hypothesis"
   ]
  },
  {
   "cell_type": "markdown",
   "metadata": {},
   "source": [
    "It is difficult to draw a logically concluded hypothesis for such a test, as one would assume reasonably that the two operations should be relatively similar. However, on the simple basis that conditionals require an assignment to memory, a loop back, and then another fetch to check the condition, whereas `break` requires only a single instruction to jump out of the loop, I believe `break` should be at least somewhat faster, if not significantly."
   ]
  },
  {
   "cell_type": "markdown",
   "metadata": {},
   "source": [
    "#### Testing"
   ]
  },
  {
   "cell_type": "markdown",
   "metadata": {},
   "source": [
    "Setting up our test suite:"
   ]
  },
  {
   "cell_type": "code",
   "execution_count": 0,
   "metadata": {},
   "outputs": [],
   "source": [
    "from timeit import timeit\n",
    "\n",
    "def test(tests):\n",
    "    for (key, value) in tests.items():\n",
    "        time = timeit(value[0], value[2], number=value[1])\n",
    "        print(f\"{key}: {time}\")"
   ]
  },
  {
   "cell_type": "markdown",
   "metadata": {},
   "source": [
    "Running our tests:"
   ]
  },
  {
   "cell_type": "code",
   "execution_count": 1,
   "metadata": {},
   "outputs": [
    {
     "name": "stdout",
     "output_type": "stream",
     "text": [
      "while_break: 0.009433598999748938\n",
      "while_check: 0.019497580000461312\n",
      "forin_break: 0.056230802001664415\n",
      "forin_check_del: 0.03414379199966788\n",
      "forin_check_brk: 0.045858978999604005\n"
     ]
    }
   ],
   "source": [
    "tests = {}\n",
    "tests[\"while_break\"] = [\n",
    "\t\"\"\"\n",
    "while True:\n",
    "\tbreak\n",
    "\t\"\"\",\n",
    "\t1000000,\n",
    "\t\"\"\n",
    "]\n",
    "tests[\"while_check\"] = [\n",
    "\t\"\"\"\n",
    "while not over:\n",
    "\tover = True\n",
    "\t\"\"\",\n",
    "\t1000000,\n",
    "\t\"over = False\"\n",
    "]\n",
    "tests[\"forin_break\"] = [\n",
    "\t\"\"\"\n",
    "for x in p:\n",
    "\tbreak\n",
    "\t\"\"\",\n",
    "\t1000000,\n",
    "\t\"p = [0, 1, 2]\"\n",
    "]\n",
    "# It is not actually possible to directly build a\n",
    "# conditional into a for loop in Python, as a\n",
    "# consequence of how Python is built. As such, we\n",
    "# will test 2 methods: erasing the rest of the list,\n",
    "# and an `if...break`.\n",
    "tests[\"forin_check_del\"] = [\n",
    "\t\"\"\"\n",
    "for x in p:\n",
    "\tif over:\n",
    "\t\tp.clear()\n",
    "\tover = True\n",
    "\t\"\"\",\n",
    "\t1000000,\n",
    "\t\"over = False;p = [0, 1, 2]\"\n",
    "]\n",
    "tests[\"forin_check_brk\"] = [\n",
    "\t\"\"\"\n",
    "for x in p:\n",
    "\tif over:\n",
    "\t\tbreak\n",
    "\tover = True\n",
    "\t\"\"\",\n",
    "\t1000000,\n",
    "\t\"over = False;p = [0, 1, 2]\"\n",
    "]\n",
    "\n",
    "test(tests)"
   ]
  },
  {
   "cell_type": "markdown",
   "metadata": {},
   "source": [
    "Of course, I always run my test suites more than once. However, upon doing so, I noticed an inconsistency in the primary results. They seemed to change back and forth quite often, so I'll now be constructing a table to measure results and see if the discrepancies warrant a change in approach or an inconclusive mark.\n",
    "\n",
    "As the reader you are welcome at any time to run the suite on your own machine to verify my claims."
   ]
  },
  {
   "cell_type": "code",
   "execution_count": 2,
   "metadata": {},
   "outputs": [],
   "source": [
    "import numpy as np\n",
    "from matplotlib import pyplot as plt\n",
    "from matplotlib import colors as col\n",
    "\n",
    "def plot(checks):\n",
    "\t\"\"\"Plots test results from checks. `checks` must be dict, where the key is the name and the value is an instance of `np.array`\"\"\"\n",
    "\t# calculates plot values\n",
    "\tlow = min([checks[x].min() for x in checks])\n",
    "\tlim = max([checks[x].max() for x in checks])\n",
    "\ttests = range(1, len(checks[list(checks.keys())[0]])+1)\n",
    "\t\n",
    "\t# plots graph\n",
    "\tplt.xlabel(\"test no.\")\n",
    "\tplt.ylabel(\"time (s)\")\n",
    "\tfor name, x in checks.items():\n",
    "\t\tcolour = list(col.BASE_COLORS.keys())[list(checks.keys()).index(name)]\n",
    "\t\tplt.plot(tests, x, linestyle=\"-\", c=colour, label=name)\n",
    "\tplt.xticks(tests)\n",
    "\tplt.ylim([low-(0.1*low), lim+(0.1*low)])\n",
    "\tplt.legend(loc=\"upper left\")\n",
    "\tplt.show()"
   ]
  },
  {
   "cell_type": "markdown",
   "metadata": {},
   "source": [
    "| Test |     `while_break`    |     `while_check`    |\n",
    "|:----:|:--------------------:|:--------------------:|\n",
    "|   1  | 0.016855678999945667 | 0.014753502000075969 |\n",
    "|   2  | 0.017085809000036534 | 0.012262844999895606 |\n",
    "|   3  |   0.01806852899972   | 0.021265754000069137 |\n",
    "|   4  | 0.015186278999863134 |  0.01617280499976914 |\n",
    "|   5  |  0.01349683799980994 | 0.020387914999446366 |\n",
    "|   6  | 0.022207265000361076 |  0.01812310300010722 |\n",
    "|   7  |  0.01449698000033095 | 0.016063858000052278 |\n",
    "|   8  | 0.019192011000086495 | 0.013797925999824656 |\n",
    "|   9  |  0.02037990900043951 | 0.014765822000299522 |\n",
    "|  10  | 0.018137518000003183 | 0.013981764999698498 |"
   ]
  },
  {
   "cell_type": "code",
   "execution_count": 3,
   "metadata": {},
   "outputs": [
    {
     "data": {
      "image/png": "[encoded data removed]",
      "text/plain": [
       "<Figure size 432x288 with 1 Axes>"
      ]
     },
     "metadata": {
      "needs_background": "light"
     },
     "output_type": "display_data"
    }
   ],
   "source": [
    "%matplotlib inline\n",
    "res_brk = np.array([0.016855678999945667, 0.017085809000036534, 0.01806852899972, 0.015186278999863134, 0.01349683799980994, 0.022207265000361076, 0.01449698000033095, 0.019192011000086495, 0.02037990900043951, 0.018137518000003183])\n",
    "res_chk = np.array([0.014753502000075969, 0.012262844999895606, 0.021265754000069137, 0.01617280499976914, 0.020387914999446366, 0.01812310300010722, 0.016063858000052278, 0.013797925999824656, 0.014765822000299522, 0.013981764999698498])\n",
    "plot({\"while_break\": res_brk, \"while_check\": res_chk})"
   ]
  },
  {
   "cell_type": "markdown",
   "metadata": {},
   "source": [
    "The results prove to be inconsistent a lot of the time. First, I will try increasing the base number of tests to average out, in order to see if the problem is actually that I am measuring too small a number of tests for the perhaps miniscule difference in execution time between the two constructs. This time, I will run for 1 billion tests, in order to magnify the results enough to see any genuinely major differences."
   ]
  },
  {
   "cell_type": "code",
   "execution_count": 4,
   "metadata": {},
   "outputs": [
    {
     "name": "stdout",
     "output_type": "stream",
     "text": [
      "while_break: 7.418902970999625\n",
      "while_check: 9.252725321999606\n"
     ]
    }
   ],
   "source": [
    "tests = {}\n",
    "\n",
    "tests[\"while_break\"] = [\n",
    "\t\"\"\"\n",
    "while True:\n",
    "\tbreak\n",
    "\t\"\"\",\n",
    "\t1000000000,\n",
    "\t\"\"\n",
    "]\n",
    "tests[\"while_check\"] = [\n",
    "\t\"\"\"\n",
    "while not over:\n",
    "\tover = True\n",
    "\t\"\"\",\n",
    "\t1000000000,\n",
    "\t\"over = False\"\n",
    "]\n",
    "\n",
    "test(tests)"
   ]
  },
  {
   "cell_type": "markdown",
   "metadata": {},
   "source": [
    "| Test |    `while_break`   |   `while_check`   |\n",
    "|:----:|:------------------:|:-----------------:|\n",
    "|   1  |  7.545864007000091 | 8.893152812000153 |\n",
    "|   2  | 6.9994925880000665 | 8.789875424999991 |\n",
    "|   3  |  6.99228112200035  | 8.772128739999971 |\n",
    "|   4  |  7.016520256000149 | 8.774441176999972 |\n",
    "|   5  |  7.008395603999816 | 9.082717027000399 |\n",
    "|   6  |  7.012604857000042 |  8.75714720399992 |\n",
    "|   7  | 7.0721877389996735 | 8.862611889000618 |\n",
    "|   8  | 7.0326520609996805 | 8.788487822999741 |\n",
    "|   9  |  7.169503927000733 |  9.04424666399973 |\n",
    "|  10  |  7.203111390999766 | 9.042622316000234 |"
   ]
  },
  {
   "cell_type": "markdown",
   "metadata": {},
   "source": [
    "Now, to compare our new results:"
   ]
  },
  {
   "cell_type": "code",
   "execution_count": 5,
   "metadata": {},
   "outputs": [
    {
     "data": {
      "image/png": "[encoded data removed]",
      "text/plain": [
       "<Figure size 432x288 with 1 Axes>"
      ]
     },
     "metadata": {
      "needs_background": "light"
     },
     "output_type": "display_data"
    }
   ],
   "source": [
    "%matplotlib inline\n",
    "res_brk = np.array([7.545864007000091, 6.9994925880000665, 6.99228112200035, 7.016520256000149, 7.008395603999816, 7.012604857000042, 7.0721877389996735, 7.0326520609996805, 7.169503927000733, 7.203111390999766])\n",
    "res_chk = np.array([8.893152812000153, 8.789875424999991, 8.772128739999971, 8.774441176999972, 9.082717027000399, 8.75714720399992, 8.862611889000618, 8.788487822999741, 9.04424666399973, 9.042622316000234])\n",
    "plot({\"while_break\": res_brk, \"while_check\": res_chk})"
   ]
  },
  {
   "cell_type": "markdown",
   "metadata": {},
   "source": [
    "As the graph shows, these results are significantly more consistent. Furthermore, they produce a conclusive result.  \n",
    "Now that the inconclusivity is resolved, we can draw the conclusions for our hypothesis."
   ]
  },
  {
   "cell_type": "markdown",
   "metadata": {},
   "source": [
    "#### Conclusion"
   ]
  },
  {
   "cell_type": "markdown",
   "metadata": {},
   "source": [
    "Our hypothesis holds true for `while` loops: the `break` statement proves to be faster than conditionals in our test cases.\n",
    "However, another interesting result can be seen from our testing; id est, in terms of `for` loops, conditionals are actually faster.  \n",
    "Not just conditionals, though - interestingly enough, using `:list:.clear()` to erase the rest of the elements on a conditional is faster than running `break` conditionally.\n",
    "\n",
    "In summary:\n",
    "- `break` is faster than conditionals for `while` loops.\n",
    "- Conditionals are faster than `break` for `for` loops.\n",
    "  * Conditionally reserved `break` is faster than pure `break`.\n",
    "  * Conditionally reserved `:list:.clear()` is faster than conditionally reserved `break`.\n",
    "  \n",
    "Therefore, I conclude that `break` should be preferred to end `while` loops, and conditionals should be preferred to end `for` loops, with `:list:.clear()` being preferred in instances where the list does not need to remain intact and conditionally reserved `break` being preferred otherwise.\n",
    "\n",
    "May this document serve useful to you, its reader, as this research did to me."
   ]
  }
 ],
 "metadata": {
  "kernelspec": {
   "display_name": "Python 3",
   "language": "python",
   "name": "python3"
  },
  "language_info": {
   "codemirror_mode": {
    "name": "ipython",
    "version": 3
   },
   "file_extension": ".py",
   "mimetype": "text/x-python",
   "name": "python",
   "nbconvert_exporter": "python",
   "pygments_lexer": "ipython3",
   "version": "3.8.6"
  }
 },
 "nbformat": 4,
 "nbformat_minor": 4
}
